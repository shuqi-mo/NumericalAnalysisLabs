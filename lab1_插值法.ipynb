{
 "cells": [
  {
   "cell_type": "markdown",
   "metadata": {},
   "source": [
    "# 生成均差表"
   ]
  },
  {
   "cell_type": "code",
   "execution_count": 1,
   "metadata": {},
   "outputs": [
    {
     "data": {
      "text/plain": [
       "array([[ 0.00000000e+00,  1.00000000e+00,  4.00000000e+00,\n",
       "         9.00000000e+00,  1.60000000e+01,  2.50000000e+01,\n",
       "         3.60000000e+01,  4.90000000e+01,  6.40000000e+01],\n",
       "       [ 0.00000000e+00,  1.00000000e+00,  2.00000000e+00,\n",
       "         3.00000000e+00,  4.00000000e+00,  5.00000000e+00,\n",
       "         6.00000000e+00,  7.00000000e+00,  8.00000000e+00],\n",
       "       [ 0.00000000e+00,  1.00000000e+00,  3.33333333e-01,\n",
       "         2.00000000e-01,  1.42857143e-01,  1.11111111e-01,\n",
       "         9.09090909e-02,  7.69230769e-02,  6.66666667e-02],\n",
       "       [ 0.00000000e+00,  0.00000000e+00, -1.66666667e-01,\n",
       "        -1.66666667e-02, -4.76190476e-03, -1.98412698e-03,\n",
       "        -1.01010101e-03, -5.82750583e-04, -3.66300366e-04],\n",
       "       [ 0.00000000e+00,  0.00000000e+00,  0.00000000e+00,\n",
       "         1.66666667e-02,  7.93650794e-04,  1.32275132e-04,\n",
       "         3.60750361e-05,  1.29500130e-05,  5.55000555e-06],\n",
       "       [ 0.00000000e+00,  0.00000000e+00,  0.00000000e+00,\n",
       "         0.00000000e+00, -9.92063492e-04, -2.75573192e-05,\n",
       "        -3.00625301e-06, -5.78125578e-07, -1.54166821e-07],\n",
       "       [ 0.00000000e+00,  0.00000000e+00,  0.00000000e+00,\n",
       "         0.00000000e+00,  0.00000000e+00,  3.85802469e-05,\n",
       "         7.01459035e-07,  5.39583873e-08,  7.70834104e-09],\n",
       "       [ 0.00000000e+00,  0.00000000e+00,  0.00000000e+00,\n",
       "         0.00000000e+00,  0.00000000e+00,  0.00000000e+00,\n",
       "        -1.05218855e-06, -1.34895968e-08, -7.70834104e-10],\n",
       "       [ 0.00000000e+00,  0.00000000e+00,  0.00000000e+00,\n",
       "         0.00000000e+00,  0.00000000e+00,  0.00000000e+00,\n",
       "         0.00000000e+00,  2.11979379e-08,  2.01885123e-10],\n",
       "       [ 0.00000000e+00,  0.00000000e+00,  0.00000000e+00,\n",
       "         0.00000000e+00,  0.00000000e+00,  0.00000000e+00,\n",
       "         0.00000000e+00,  0.00000000e+00, -3.28063324e-10]])"
      ]
     },
     "execution_count": 1,
     "metadata": {},
     "output_type": "execute_result"
    }
   ],
   "source": [
    "import numpy as np\n",
    "x_sample = np.array([0,1,4,9,16,25,36,49,64])\n",
    "y_sample = np.array([0,1,2,3,4,5,6,7,8])\n",
    "diff = np.zeros((10,9))\n",
    "for i in range(9):\n",
    "    diff[0][i] = x_sample[i]\n",
    "    diff[1][i] = y_sample[i]\n",
    "for diff_index in range(1,9):\n",
    "    for i in range(diff_index,9):\n",
    "        diff[diff_index+1][i] = (diff[diff_index][i]-diff[diff_index][i-1])/(diff[0][i]-diff[0][i-diff_index])\n",
    "diff"
   ]
  },
  {
   "cell_type": "markdown",
   "metadata": {},
   "source": [
    "# 牛顿插值法"
   ]
  },
  {
   "cell_type": "code",
   "execution_count": 2,
   "metadata": {},
   "outputs": [
    {
     "data": {
      "image/png": "[encoded data removed]",
      "text/plain": [
       "<Figure size 432x288 with 1 Axes>"
      ]
     },
     "metadata": {
      "needs_background": "light"
     },
     "output_type": "display_data"
    }
   ],
   "source": [
    "import matplotlib.pyplot as plt\n",
    "x = np.linspace(0,64,1000)\n",
    "y_newton = diff[1][0]+diff[2][1]*(x-x_sample[0])+diff[3][2]*(x-x_sample[0])*(x-x_sample[1])+diff[4][3]*(x-x_sample[0])*(x-x_sample[1])*(x-x_sample[2])\\\n",
    "+diff[5][4]*(x-x_sample[0])*(x-x_sample[1])*(x-x_sample[2])*(x-x_sample[3])\\\n",
    "+diff[6][5]*(x-x_sample[0])*(x-x_sample[1])*(x-x_sample[2])*(x-x_sample[3])*(x-x_sample[4])\\\n",
    "+diff[7][6]*(x-x_sample[0])*(x-x_sample[1])*(x-x_sample[2])*(x-x_sample[3])*(x-x_sample[4])*(x-x_sample[5])\\\n",
    "+diff[8][7]*(x-x_sample[0])*(x-x_sample[1])*(x-x_sample[2])*(x-x_sample[3])*(x-x_sample[4])*(x-x_sample[5])*(x-x_sample[6])\\\n",
    "+diff[9][8]*(x-x_sample[0])*(x-x_sample[1])*(x-x_sample[2])*(x-x_sample[3])*(x-x_sample[4])*(x-x_sample[5])*(x-x_sample[6])*(x-x_sample[7])\n",
    "plt.plot(x,y_newton)\n",
    "plt.scatter(x_sample,y_sample,c='red')\n",
    "plt.show()"
   ]
  },
  {
   "cell_type": "markdown",
   "metadata": {},
   "source": [
    "# 三次样条插值法"
   ]
  },
  {
   "cell_type": "code",
   "execution_count": 3,
   "metadata": {},
   "outputs": [
    {
     "name": "stdout",
     "output_type": "stream",
     "text": [
      "[ 1.  3.  5.  7.  9. 11. 13. 15.]\n",
      "[0.75       0.625      0.58333333 0.5625     0.55       0.54166667\n",
      " 0.53571429]\n",
      "[0.25       0.375      0.41666667 0.4375     0.45       0.45833333\n",
      " 0.46428571]\n"
     ]
    }
   ],
   "source": [
    "h = np.zeros(8)\n",
    "lamda = np.zeros(7)\n",
    "mu = np.zeros(7)\n",
    "for i in range(8):\n",
    "    h[i] = x_sample[i+1] - x_sample[i]\n",
    "for i in range(7):\n",
    "    lamda[i] = h[i+1]/(h[i+1]+h[i])\n",
    "    mu[i] = 1-lamda[i]\n",
    "print(h)\n",
    "print(lamda)\n",
    "print(mu)"
   ]
  },
  {
   "cell_type": "code",
   "execution_count": 4,
   "metadata": {},
   "outputs": [
    {
     "data": {
      "text/plain": [
       "array([[2.        , 1.        , 0.        , 0.        , 0.        ,\n",
       "        0.        , 0.        , 0.        , 0.        ],\n",
       "       [0.25      , 2.        , 0.75      , 0.        , 0.        ,\n",
       "        0.        , 0.        , 0.        , 0.        ],\n",
       "       [0.        , 0.375     , 2.        , 0.625     , 0.        ,\n",
       "        0.        , 0.        , 0.        , 0.        ],\n",
       "       [0.        , 0.        , 0.41666667, 2.        , 0.58333333,\n",
       "        0.        , 0.        , 0.        , 0.        ],\n",
       "       [0.        , 0.        , 0.        , 0.4375    , 2.        ,\n",
       "        0.5625    , 0.        , 0.        , 0.        ],\n",
       "       [0.        , 0.        , 0.        , 0.        , 0.45      ,\n",
       "        2.        , 0.55      , 0.        , 0.        ],\n",
       "       [0.        , 0.        , 0.        , 0.        , 0.        ,\n",
       "        0.45833333, 2.        , 0.54166667, 0.        ],\n",
       "       [0.        , 0.        , 0.        , 0.        , 0.        ,\n",
       "        0.        , 0.46428571, 2.        , 0.53571429],\n",
       "       [0.        , 0.        , 0.        , 0.        , 0.        ,\n",
       "        0.        , 0.        , 1.        , 2.        ]])"
      ]
     },
     "execution_count": 4,
     "metadata": {},
     "output_type": "execute_result"
    }
   ],
   "source": [
    "A = np.zeros((9,9))\n",
    "for row in range(9):\n",
    "    A[row][row] = 2\n",
    "A[0][1] = 1\n",
    "A[8][7] = 1\n",
    "for row in range(1,8):\n",
    "    A[row][row-1] = mu[row-1]\n",
    "    A[row][row+1] = lamda[row-1]\n",
    "A"
   ]
  },
  {
   "cell_type": "code",
   "execution_count": 5,
   "metadata": {},
   "outputs": [
    {
     "data": {
      "text/plain": [
       "array([-0.16666667, -0.01666667, -0.0047619 , -0.00198413, -0.0010101 ,\n",
       "       -0.00058275, -0.0003663 ])"
      ]
     },
     "execution_count": 5,
     "metadata": {},
     "output_type": "execute_result"
    }
   ],
   "source": [
    "b = diff[3][np.where(diff[3]!=0)]\n",
    "b"
   ]
  },
  {
   "cell_type": "code",
   "execution_count": 6,
   "metadata": {},
   "outputs": [],
   "source": [
    "# 一阶边界条件中，0点的一阶导数不存在，直接假设0点的一阶导为10\n",
    "boundary_start = 10\n",
    "boundary_end = 1/16\n",
    "start = (diff[2][0]-boundary_start)/(diff[0][1]-diff[0][0])\n",
    "end = (boundary_end-diff[2][8])/(diff[0][8]-diff[0][7])\n",
    "b = np.insert(b,0,start)\n",
    "b = np.append(b,end)"
   ]
  },
  {
   "cell_type": "code",
   "execution_count": 7,
   "metadata": {},
   "outputs": [
    {
     "data": {
      "text/plain": [
       "(9,)"
      ]
     },
     "execution_count": 7,
     "metadata": {},
     "output_type": "execute_result"
    }
   ],
   "source": [
    "b = b * 6\n",
    "b.shape"
   ]
  },
  {
   "cell_type": "code",
   "execution_count": 8,
   "metadata": {},
   "outputs": [
    {
     "data": {
      "text/plain": [
       "array([-3.18960606e+01,  3.79212127e+00, -8.13636500e-01,  1.68364039e-01,\n",
       "       -4.50587982e-02,  8.09523079e-03, -3.59019717e-03, -4.87814081e-05,\n",
       "       -8.08942629e-04])"
      ]
     },
     "execution_count": 8,
     "metadata": {},
     "output_type": "execute_result"
    }
   ],
   "source": [
    "A_inverse = np.linalg.inv(A)\n",
    "M = np.matmul(A_inverse, b)\n",
    "M"
   ]
  },
  {
   "cell_type": "code",
   "execution_count": 9,
   "metadata": {},
   "outputs": [
    {
     "data": {
      "image/png": "[encoded data removed]",
      "text/plain": [
       "<Figure size 432x288 with 1 Axes>"
      ]
     },
     "metadata": {
      "needs_background": "light"
     },
     "output_type": "display_data"
    }
   ],
   "source": [
    "x1 = np.linspace(0,1,100)\n",
    "k = 0\n",
    "y_spline1 = M[k]*(diff[0][k+1]-x1)**3/(6*h[k]) + M[k+1]*(x1-diff[0][k])**3/(6*h[k])\\\n",
    "+ (diff[1][k]-M[k]*h[k]**2/6)*(diff[0][k+1]-x1)/h[k] + (diff[1][k+1]-M[k+1]*h[k]**2/6)*(x1-diff[0][k])/h[k]\n",
    "x2 = np.linspace(1,4,100)\n",
    "k = 1\n",
    "y_spline2 = M[k]*(diff[0][k+1]-x2)**3/(6*h[k]) + M[k+1]*(x2-diff[0][k])**3/(6*h[k])\\\n",
    "+ (diff[1][k]-M[k]*h[k]**2/6)*(diff[0][k+1]-x2)/h[k] + (diff[1][k+1]-M[k+1]*h[k]**2/6)*(x2-diff[0][k])/h[k]\n",
    "x3 = np.linspace(4,9,100)\n",
    "k = 2\n",
    "y_spline3 = M[k]*(diff[0][k+1]-x3)**3/(6*h[k]) + M[k+1]*(x3-diff[0][k])**3/(6*h[k])\\\n",
    "+ (diff[1][k]-M[k]*h[k]**2/6)*(diff[0][k+1]-x3)/h[k] + (diff[1][k+1]-M[k+1]*h[k]**2/6)*(x3-diff[0][k])/h[k]\n",
    "x4 = np.linspace(9,16,100)\n",
    "k = 3\n",
    "y_spline4 = M[k]*(diff[0][k+1]-x4)**3/(6*h[k]) + M[k+1]*(x4-diff[0][k])**3/(6*h[k])\\\n",
    "+ (diff[1][k]-M[k]*h[k]**2/6)*(diff[0][k+1]-x4)/h[k] + (diff[1][k+1]-M[k+1]*h[k]**2/6)*(x4-diff[0][k])/h[k]\n",
    "x5 = np.linspace(16,25,100)\n",
    "k = 4\n",
    "y_spline5 = M[k]*(diff[0][k+1]-x5)**3/(6*h[k]) + M[k+1]*(x5-diff[0][k])**3/(6*h[k])\\\n",
    "+ (diff[1][k]-M[k]*h[k]**2/6)*(diff[0][k+1]-x5)/h[k] + (diff[1][k+1]-M[k+1]*h[k]**2/6)*(x5-diff[0][k])/h[k]\n",
    "x6 = np.linspace(25,36,100)\n",
    "k = 5\n",
    "y_spline6 = M[k]*(diff[0][k+1]-x6)**3/(6*h[k]) + M[k+1]*(x6-diff[0][k])**3/(6*h[k])\\\n",
    "+ (diff[1][k]-M[k]*h[k]**2/6)*(diff[0][k+1]-x6)/h[k] + (diff[1][k+1]-M[k+1]*h[k]**2/6)*(x6-diff[0][k])/h[k]\n",
    "x7 = np.linspace(36,49,100)\n",
    "k = 6\n",
    "y_spline7 = M[k]*(diff[0][k+1]-x7)**3/(6*h[k]) + M[k+1]*(x7-diff[0][k])**3/(6*h[k])\\\n",
    "+ (diff[1][k]-M[k]*h[k]**2/6)*(diff[0][k+1]-x7)/h[k] + (diff[1][k+1]-M[k+1]*h[k]**2/6)*(x7-diff[0][k])/h[k]\n",
    "x8 = np.linspace(49,64,100)\n",
    "k = 7\n",
    "y_spline8 = M[k]*(diff[0][k+1]-x8)**3/(6*h[k]) + M[k+1]*(x8-diff[0][k])**3/(6*h[k])\\\n",
    "+ (diff[1][k]-M[k]*h[k]**2/6)*(diff[0][k+1]-x8)/h[k] + (diff[1][k+1]-M[k+1]*h[k]**2/6)*(x8-diff[0][k])/h[k]\n",
    "plt.plot(x1,y_spline1,c='blue')\n",
    "plt.plot(x2,y_spline2,c='blue')\n",
    "plt.plot(x3,y_spline3,c='blue')\n",
    "plt.plot(x4,y_spline4,c='blue')\n",
    "plt.plot(x5,y_spline5,c='blue')\n",
    "plt.plot(x6,y_spline6,c='blue')\n",
    "plt.plot(x7,y_spline7,c='blue')\n",
    "plt.plot(x8,y_spline8,c='blue')\n",
    "plt.scatter(x_sample,y_sample,c='red')\n",
    "plt.show()"
   ]
  },
  {
   "cell_type": "markdown",
   "metadata": {},
   "source": [
    "# 结论"
   ]
  },
  {
   "cell_type": "markdown",
   "metadata": {},
   "source": [
    "从得到结果看，在[0,64]上，三次样条插值更精确；在[0,1]上，牛顿插值法更精确。"
   ]
  }
 ],
 "metadata": {
  "kernelspec": {
   "display_name": "Python 3",
   "language": "python",
   "name": "python3"
  },
  "language_info": {
   "codemirror_mode": {
    "name": "ipython",
    "version": 3
   },
   "file_extension": ".py",
   "mimetype": "text/x-python",
   "name": "python",
   "nbconvert_exporter": "python",
   "pygments_lexer": "ipython3",
   "version": "3.7.6"
  }
 },
 "nbformat": 4,
 "nbformat_minor": 4
}
