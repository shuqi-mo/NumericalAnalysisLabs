{
 "cells": [
  {
   "cell_type": "code",
   "execution_count": 1,
   "metadata": {},
   "outputs": [],
   "source": [
    "import numpy as np"
   ]
  },
  {
   "cell_type": "code",
   "execution_count": 2,
   "metadata": {},
   "outputs": [],
   "source": [
    "def maxRowIndex(columnIndex, A):\n",
    "    max = 0\n",
    "    pos = 0\n",
    "    for i in range(columnIndex,n):\n",
    "        if(np.abs(A[i][columnIndex]) > max):\n",
    "            max = np.abs(A[i][columnIndex])\n",
    "            pos = i\n",
    "    return pos\n",
    "\n",
    "def GuassianEliminationForRow(curr, A):\n",
    "    # 1.选列主元\n",
    "    pos = maxRowIndex(curr, A)\n",
    "    # 2.换行\n",
    "    tmp = np.copy(A[pos])\n",
    "    A[pos] = A[curr]\n",
    "    A[curr] = tmp\n",
    "    # 3.消元\n",
    "    for i in range(curr+1, n):\n",
    "        factor = A[i][curr] / A[curr][curr]\n",
    "        A[i] -= factor * A[curr]"
   ]
  },
  {
   "cell_type": "code",
   "execution_count": 3,
   "metadata": {},
   "outputs": [
    {
     "name": "stdout",
     "output_type": "stream",
     "text": [
      "原方程为：\n",
      "[[ 3.01   6.03   1.99   1.   ]\n",
      " [ 1.27   4.16  -1.23   1.   ]\n",
      " [ 0.987 -4.81   9.34   1.   ]]\n",
      "第1步高斯消去法计算得到的矩阵：\n",
      "[[ 3.01        6.03        1.99        1.        ]\n",
      " [ 0.          1.61578073 -2.06963455  0.57807309]\n",
      " [ 0.         -6.78727907  8.68746512  0.67209302]]\n",
      "第2步高斯消去法计算得到的矩阵：\n",
      "[[ 3.01000000e+00  6.03000000e+00  1.99000000e+00  1.00000000e+00]\n",
      " [ 0.00000000e+00 -6.78727907e+00  8.68746512e+00  6.72093023e-01]\n",
      " [ 0.00000000e+00  0.00000000e+00 -1.49522925e-03  7.38071661e-01]]\n",
      "第3步高斯消去法计算得到的矩阵：\n",
      "[[ 3.01000000e+00  6.03000000e+00  1.99000000e+00  1.00000000e+00]\n",
      " [ 0.00000000e+00 -6.78727907e+00  8.68746512e+00  6.72093023e-01]\n",
      " [ 0.00000000e+00  0.00000000e+00 -1.49522925e-03  7.38071661e-01]]\n",
      "最终求得的解为：[1592.59962484 -631.9113762  -493.61772476]\n"
     ]
    }
   ],
   "source": [
    "A1 = np.array([[3.01,6.03,1.99],[1.27,4.16,-1.23],[0.987,-4.81,9.34]])\n",
    "b1 = np.array([1.0,1.0,1.0])\n",
    "n = A1.shape[0]\n",
    "b1 = b1.reshape(n,1)\n",
    "compose = np.hstack((A1,b1))\n",
    "print(\"原方程为：\")\n",
    "print(compose)\n",
    "# 选列主元的高斯消去法\n",
    "for i in range(0, n):\n",
    "    GuassianEliminationForRow(i, compose)\n",
    "    print(\"第{}步高斯消去法计算得到的矩阵：\".format(i+1))\n",
    "    print(compose)\n",
    "# 回代解方程\n",
    "x = np.zeros(n)\n",
    "x[n-1] = compose[n-1][n] / compose[n-1][n-1]\n",
    "for i in range(n-2, -1, -1):\n",
    "    sum = 0\n",
    "    for j in range(n-1, i, -1):\n",
    "        sum += compose[i][j] * x[j]\n",
    "    x[i] = (compose[i][n]-sum) / compose[i][i]\n",
    "print(\"最终求得的解为：{}\".format(x))"
   ]
  },
  {
   "cell_type": "code",
   "execution_count": 4,
   "metadata": {},
   "outputs": [
    {
     "name": "stdout",
     "output_type": "stream",
     "text": [
      "原方程为：\n",
      "[[ 3.    6.03  1.99  1.  ]\n",
      " [ 1.27  4.16 -1.23  1.  ]\n",
      " [ 0.99 -4.81  9.34  1.  ]]\n",
      "第1步高斯消去法计算得到的矩阵：\n",
      "[[ 3.          6.03        1.99        1.        ]\n",
      " [ 0.          1.6073     -2.07243333  0.57666667]\n",
      " [ 0.         -6.7999      8.6833      0.67      ]]\n",
      "第2步高斯消去法计算得到的矩阵：\n",
      "[[ 3.          6.03        1.99        1.        ]\n",
      " [ 0.         -6.7999      8.6833      0.67      ]\n",
      " [ 0.          0.         -0.01995196  0.73503532]]\n",
      "第3步高斯消去法计算得到的矩阵：\n",
      "[[ 3.          6.03        1.99        1.        ]\n",
      " [ 0.         -6.7999      8.6833      0.67      ]\n",
      " [ 0.          0.         -0.01995196  0.73503532]]\n",
      "最终求得的解为：[119.52733813 -47.14260443 -36.84025611]\n"
     ]
    }
   ],
   "source": [
    "A2 = np.array([[3.00,6.03,1.99],[1.27,4.16,-1.23],[0.990,-4.81,9.34]])\n",
    "b2 = np.array([1.0,1.0,1.0])\n",
    "n = A2.shape[0]\n",
    "b2 = b2.reshape(n,1)\n",
    "compose = np.hstack((A2,b2))\n",
    "print(\"原方程为：\")\n",
    "print(compose)\n",
    "# 选列主元的高斯消去法\n",
    "for i in range(0, n):\n",
    "    GuassianEliminationForRow(i, compose)\n",
    "    print(\"第{}步高斯消去法计算得到的矩阵：\".format(i+1))\n",
    "    print(compose)\n",
    "# 回代解方程\n",
    "x = np.zeros(n)\n",
    "x[n-1] = compose[n-1][n] / compose[n-1][n-1]\n",
    "for i in range(n-2, -1, -1):\n",
    "    sum = 0\n",
    "    for j in range(n-1, i, -1):\n",
    "        sum += compose[i][j] * x[j]\n",
    "    x[i] = (compose[i][n]-sum) / compose[i][i]\n",
    "print(\"最终求得的解为：{}\".format(x))"
   ]
  }
 ],
 "metadata": {
  "kernelspec": {
   "display_name": "Python 3",
   "language": "python",
   "name": "python3"
  },
  "language_info": {
   "codemirror_mode": {
    "name": "ipython",
    "version": 3
   },
   "file_extension": ".py",
   "mimetype": "text/x-python",
   "name": "python",
   "nbconvert_exporter": "python",
   "pygments_lexer": "ipython3",
   "version": "3.7.6"
  }
 },
 "nbformat": 4,
 "nbformat_minor": 4
}
